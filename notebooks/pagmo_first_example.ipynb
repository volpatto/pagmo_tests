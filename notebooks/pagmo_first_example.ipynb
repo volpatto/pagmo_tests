{
 "cells": [
  {
   "cell_type": "markdown",
   "metadata": {},
   "source": [
    "# PaGMO: A simple first example"
   ]
  },
  {
   "cell_type": "markdown",
   "metadata": {},
   "source": [
    "Here, we will quickly see how to define an optimization problem and solve it with PaGMO. The idea is to explore and understand the main features and workflow of the lib."
   ]
  },
  {
   "cell_type": "markdown",
   "metadata": {},
   "source": [
    "## Importing the dependencies and namespace"
   ]
  },
  {
   "cell_type": "code",
   "execution_count": null,
   "metadata": {},
   "outputs": [],
   "source": [
    "#include <string>\n",
    "\n",
    "#include <pagmo/io.hpp>\n",
    "#include <eigen3/Eigen/Dense>\n",
    "#include <pagmo/problem.hpp>\n",
    "#include <pagmo/types.hpp>\n",
    "\n",
    "using namespace pagmo;"
   ]
  }
 ],
 "metadata": {
  "kernelspec": {
   "display_name": "C++14 [conda env:pagmo-env] *",
   "language": "C++14",
   "name": "conda-env-pagmo-env-xcpp14"
  },
  "language_info": {
   "codemirror_mode": "text/x-c++src",
   "file_extension": ".cpp",
   "mimetype": "text/x-c++src",
   "name": "c++",
   "version": "-std=c++14"
  }
 },
 "nbformat": 4,
 "nbformat_minor": 2
}
